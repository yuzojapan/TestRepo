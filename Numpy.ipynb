{
 "cells": [
  {
   "cell_type": "code",
   "execution_count": 9,
   "metadata": {},
   "outputs": [],
   "source": [
    "import numpy as np"
   ]
  },
  {
   "cell_type": "code",
   "execution_count": 10,
   "metadata": {},
   "outputs": [
    {
     "name": "stdout",
     "output_type": "stream",
     "text": [
      "<class 'numpy.ndarray'>\n",
      "[0 1 2]\n",
      "int64\n"
     ]
    }
   ],
   "source": [
    "a = np.array([0, 1, 2])\n",
    "print(type(a))\n",
    "print(a)\n",
    "print(a.dtype)"
   ]
  },
  {
   "cell_type": "code",
   "execution_count": 12,
   "metadata": {},
   "outputs": [
    {
     "name": "stdout",
     "output_type": "stream",
     "text": [
      "[100 200 300]\n",
      "int16\n"
     ]
    }
   ],
   "source": [
    "f = np.array([100, 200, 300], dtype = np.int16)\n",
    "print(f)\n",
    "print(f.dtype)"
   ]
  },
  {
   "cell_type": "code",
   "execution_count": 13,
   "metadata": {},
   "outputs": [
    {
     "name": "stdout",
     "output_type": "stream",
     "text": [
      "[ 2  4  6  8 10 12 14 16 18 20 22 24 26 28 30 32 34 36 38 40]\n"
     ]
    }
   ],
   "source": [
    "c = np.arange(2, 41, 2)\n",
    "print(c)"
   ]
  },
  {
   "cell_type": "code",
   "execution_count": 14,
   "metadata": {},
   "outputs": [
    {
     "name": "stdout",
     "output_type": "stream",
     "text": [
      "[ 0.   2.5  5.   7.5 10. ]\n"
     ]
    }
   ],
   "source": [
    "#「a 以上 b 以下の数値を c 分割」\n",
    "d = np.linspace(0, 10, 5)\n",
    "print(d)"
   ]
  },
  {
   "cell_type": "code",
   "execution_count": 22,
   "metadata": {},
   "outputs": [
    {
     "name": "stdout",
     "output_type": "stream",
     "text": [
      "[ 0.  12.5 25.  37.5 50. ]\n"
     ]
    }
   ],
   "source": [
    "#「とりあえず指定の要素数をもつ配列だけを用意しておいて、あとから各要素に代入したい」\n",
    "e2 = np.empty(5)\n",
    "print(e2)"
   ]
  },
  {
   "cell_type": "code",
   "execution_count": 23,
   "metadata": {},
   "outputs": [
    {
     "name": "stdout",
     "output_type": "stream",
     "text": [
      "[0. 0. 0. 0. 0.]\n"
     ]
    }
   ],
   "source": [
    "f = np.zeros(5)\n",
    "print(f)"
   ]
  },
  {
   "cell_type": "code",
   "execution_count": 25,
   "metadata": {},
   "outputs": [
    {
     "name": "stdout",
     "output_type": "stream",
     "text": [
      "[1. 1. 1. 1. 1.]\n"
     ]
    }
   ],
   "source": [
    "f2 = np.ones(5)\n",
    "print(f2)"
   ]
  },
  {
   "cell_type": "code",
   "execution_count": 27,
   "metadata": {},
   "outputs": [
    {
     "name": "stdout",
     "output_type": "stream",
     "text": [
      "[0.37316585 0.0787603  0.15672533 0.59213817 0.46648821]\n"
     ]
    }
   ],
   "source": [
    "#0以上1未満のランダムな小数値を初期値とした配列ができあがります\n",
    "g = np.random.rand(5)\n",
    "print(g)"
   ]
  },
  {
   "cell_type": "code",
   "execution_count": null,
   "metadata": {},
   "outputs": [],
   "source": [
    "#np.array() でリストから配列を作成しますが、配列をリストに変換したいときは tolist() というインスタンスメソッドを利用してください。"
   ]
  },
  {
   "cell_type": "code",
   "execution_count": 28,
   "metadata": {},
   "outputs": [
    {
     "name": "stdout",
     "output_type": "stream",
     "text": [
      "[ 1  2  3  4  5  6  7  8  9 10 11 12 13 14 15 16 17 18 19 20]\n",
      "[[ 1  2  3  4  5]\n",
      " [ 6  7  8  9 10]\n",
      " [11 12 13 14 15]\n",
      " [16 17 18 19 20]]\n"
     ]
    }
   ],
   "source": [
    "a = np.arange(1, 21)\n",
    "b = a.reshape(4, 5)\n",
    "print(a)\n",
    "print(b)"
   ]
  },
  {
   "cell_type": "code",
   "execution_count": 29,
   "metadata": {},
   "outputs": [
    {
     "name": "stdout",
     "output_type": "stream",
     "text": [
      "[[ 1  2  3  4  5]\n",
      " [ 6  7  8  9 10]\n",
      " [11 12 13 14 15]\n",
      " [16 17 18 19 20]]\n",
      "[ 1  2  3  4  5  6  7  8  9 10 11 12 13 14 15 16 17 18 19 20]\n"
     ]
    }
   ],
   "source": [
    "#多次元配列から一次元配列を生成するには flatten() か ravel() というインスタンスメソッドを使います。\n",
    "#latten() は 必ず元の配列が残ります。ravel() は 元の配列が無くなってしまう可能性があります。\n",
    "d = c.flatten()\n",
    "print(c)\n",
    "print(d)"
   ]
  },
  {
   "cell_type": "code",
   "execution_count": 30,
   "metadata": {},
   "outputs": [
    {
     "name": "stdout",
     "output_type": "stream",
     "text": [
      "[[ 1  2  3  4  5]\n",
      " [ 6  7  8  9 10]\n",
      " [11 12 13 14 15]\n",
      " [16 17 18 19 20]]\n",
      "[ 1  2  3  4  5  6  7  8  9 10 11 12 13 14 15 16 17 18 19 20]\n"
     ]
    }
   ],
   "source": [
    "e = c.ravel()\n",
    "\n",
    "print(c)\n",
    "print(e)"
   ]
  },
  {
   "cell_type": "code",
   "execution_count": 46,
   "metadata": {},
   "outputs": [
    {
     "name": "stdout",
     "output_type": "stream",
     "text": [
      "[[  1   2   3   4   5   6   7   8   9  10]\n",
      " [ 11  12  13  14  15  16  17  18  19  20]\n",
      " [ 21  22  23  24  25  26  27  28  29  30]\n",
      " [ 31  32  33  34  35  36  37  38  39  40]\n",
      " [ 41  42  43  44  45  46  47  48  49  50]\n",
      " [ 51  52  53  54  55  56  57  58  59  60]\n",
      " [ 61  62  63  64  65  66  67  68  69  70]\n",
      " [ 71  72  73  74  75  76  77  78  79  80]\n",
      " [ 81  82  83  84  85  86  87  88  89  90]\n",
      " [ 91  92  93  94  95  96  97  98  99 100]]\n",
      "1\n",
      "12\n",
      "[[11 12 13 14 15 16 17 18 19 20]\n",
      " [21 22 23 24 25 26 27 28 29 30]]\n",
      "[[12 13]\n",
      " [22 23]]\n",
      "print(a[1:5:3])\n",
      "[[11 12 13 14 15 16 17 18 19 20]\n",
      " [41 42 43 44 45 46 47 48 49 50]]\n",
      "print(a[1:5:3, 1:5:3])\n",
      "[[12 15]\n",
      " [42 45]]\n",
      "print(a[:5, :5])\n",
      "[[ 1  2  3  4  5]\n",
      " [11 12 13 14 15]\n",
      " [21 22 23 24 25]\n",
      " [31 32 33 34 35]\n",
      " [41 42 43 44 45]]\n",
      "print(a[7:, 7:])\n",
      "[[ 78  79  80]\n",
      " [ 88  89  90]\n",
      " [ 98  99 100]]\n",
      "print(a[::3, ::3])\n",
      "[[  1   4   7  10]\n",
      " [ 31  34  37  40]\n",
      " [ 61  64  67  70]\n",
      " [ 91  94  97 100]]\n",
      "print(a[:, :])\n",
      "[[  1   2   3   4   5   6   7   8   9  10]\n",
      " [ 11  12  13  14  15  16  17  18  19  20]\n",
      " [ 21  22  23  24  25  26  27  28  29  30]\n",
      " [ 31  32  33  34  35  36  37  38  39  40]\n",
      " [ 41  42  43  44  45  46  47  48  49  50]\n",
      " [ 51  52  53  54  55  56  57  58  59  60]\n",
      " [ 61  62  63  64  65  66  67  68  69  70]\n",
      " [ 71  72  73  74  75  76  77  78  79  80]\n",
      " [ 81  82  83  84  85  86  87  88  89  90]\n",
      " [ 91  92  93  94  95  96  97  98  99 100]]\n"
     ]
    }
   ],
   "source": [
    "a = np.arange(1, 101).reshape(10, 10)\n",
    "print(a)\n",
    "print(a[0, 0])\n",
    "print(a[1, 1])\n",
    "print(a[1:3])\n",
    "print(a[1:3, 1:3])\n",
    "print(\"print(a[1:5:3])\")\n",
    "print(a[1:5:3])\n",
    "print(\"print(a[1:5:3, 1:5:3])\")\n",
    "print(a[1:5:3, 1:5:3])\n",
    "print(\"print(a[:5, :5])\")\n",
    "print(a[:5, :5])\n",
    "print(\"print(a[7:, 7:])\")\n",
    "print(a[7:, 7:])\n",
    "print(\"print(a[::3, ::3])\")\n",
    "print(a[::3, ::3])\n",
    "print(\"print(a[:, :])\")\n",
    "print(a[:, :])"
   ]
  },
  {
   "cell_type": "code",
   "execution_count": 48,
   "metadata": {},
   "outputs": [
    {
     "name": "stdout",
     "output_type": "stream",
     "text": [
      "[ 1  2  3  4  5  6  7  8  9 10 11 12 13 14 15 16 17 18 19 21 22 23 24]\n"
     ]
    }
   ],
   "source": [
    "a = np.arange(1, 20)\n",
    "#a = np.append(a, 20)\n",
    "a = np.append(a, (21, 22, 23, 24))\n",
    "print(a)"
   ]
  },
  {
   "cell_type": "code",
   "execution_count": 50,
   "metadata": {},
   "outputs": [
    {
     "name": "stdout",
     "output_type": "stream",
     "text": [
      "[1 6 2 3 4 5]\n"
     ]
    }
   ],
   "source": [
    "#特定の場所に追加したいときは np.insert() を使います。\n",
    "b = np.arange(1, 6)\n",
    "b = np.insert(b,1,6)\n",
    "#b = np.insert(b, 3, (7, 8))\n",
    "print(b)"
   ]
  },
  {
   "cell_type": "code",
   "execution_count": 52,
   "metadata": {},
   "outputs": [
    {
     "name": "stdout",
     "output_type": "stream",
     "text": [
      "[[0 0 0]\n",
      " [0 0 0]\n",
      " [1 1 1]\n",
      " [0 0 0]]\n",
      "[[0 0 1 0]\n",
      " [0 0 1 0]\n",
      " [0 0 1 0]]\n"
     ]
    }
   ],
   "source": [
    "a =  [[0, 0, 0], [0, 0, 0], [0, 0, 0]]\n",
    "b = [1, 1, 1]\n",
    "\n",
    "# 上から2行目に1行追加\n",
    "c = np.insert(a, 2, b, 0)\n",
    "print(c)\n",
    "\n",
    "# 左から2列目に1列追加\n",
    "e = np.insert(a, 2, b, 1)\n",
    "print(e)"
   ]
  },
  {
   "cell_type": "code",
   "execution_count": 53,
   "metadata": {},
   "outputs": [
    {
     "name": "stdout",
     "output_type": "stream",
     "text": [
      "[0 1 3 4]\n"
     ]
    }
   ],
   "source": [
    "#要素の削除には np.delete() を使います。\n",
    "a = np.arange(5)\n",
    "a = np.delete(a, 2)\n",
    "print(a)"
   ]
  },
  {
   "cell_type": "code",
   "execution_count": 54,
   "metadata": {},
   "outputs": [
    {
     "name": "stdout",
     "output_type": "stream",
     "text": [
      "[[ 1  2  3  4  5]\n",
      " [11 12 13 14 15]\n",
      " [16 17 18 19 20]\n",
      " [21 22 23 24 25]]\n",
      "[[ 1  3  4  5]\n",
      " [ 6  8  9 10]\n",
      " [11 13 14 15]\n",
      " [16 18 19 20]\n",
      " [21 23 24 25]]\n"
     ]
    }
   ],
   "source": [
    "# 1行目を削除\n",
    "b = np.arange(1, 26).reshape(5, 5)\n",
    "b = np.delete(b, 1, 0)\n",
    "print(b)\n",
    "\n",
    "# 1列目を削除\n",
    "c = np.arange(1, 26).reshape(5, 5)\n",
    "c = np.delete(c, 1, 1)\n",
    "print(c)"
   ]
  },
  {
   "cell_type": "code",
   "execution_count": 55,
   "metadata": {},
   "outputs": [
    {
     "name": "stdout",
     "output_type": "stream",
     "text": [
      "[ 1  2  3  4  5  6  7  8  9 10]\n",
      "[ 2  3  4  5  6  7  8  9 10 11]\n",
      "[0 1 2 3 4 5 6 7 8 9]\n"
     ]
    }
   ],
   "source": [
    "a = np.arange(1, 11)\n",
    "print(a)\n",
    "print(a + 1)\n",
    "print(a - 1)"
   ]
  },
  {
   "cell_type": "code",
   "execution_count": 56,
   "metadata": {},
   "outputs": [
    {
     "name": "stdout",
     "output_type": "stream",
     "text": [
      "[[1 2 3]\n",
      " [4 5 6]]\n",
      "[[ 7  8  9]\n",
      " [10 11 12]]\n",
      "[[ 8 10 12]\n",
      " [14 16 18]]\n",
      "[[6 6 6]\n",
      " [6 6 6]]\n"
     ]
    }
   ],
   "source": [
    "a = np.arange(1, 7).reshape(2, 3)\n",
    "b = np.arange(7, 13).reshape(2, 3)\n",
    "print(a)\n",
    "print(b)\n",
    "print(b + a)\n",
    "print(b - a)"
   ]
  },
  {
   "cell_type": "code",
   "execution_count": 57,
   "metadata": {},
   "outputs": [
    {
     "name": "stdout",
     "output_type": "stream",
     "text": [
      "[0.74809887 0.20906724 0.53316649 0.78879457 0.1122036 ]\n",
      "[5.48859325 2.25440346 4.19899891 5.73276743 1.67322161]\n",
      "[5 2 4 5 1]\n",
      "[6 3 5 6 2]\n",
      "[5 2 4 6 2]\n"
     ]
    }
   ],
   "source": [
    "a = np.random.rand(5)\n",
    "print(a)\n",
    "\n",
    "a = a * 6 + 1\n",
    "print(a)\n",
    "\n",
    "#切り捨ては np.floor()、切り上げは np.ceil()、四捨五入は np.round() を使いましょう。\n",
    "print(np.array(np.floor(a), dtype=np.int64))\n",
    "print(np.array(np.ceil(a), dtype=np.int64))\n",
    "print(np.array(np.round(a), dtype=np.int64))"
   ]
  },
  {
   "cell_type": "code",
   "execution_count": null,
   "metadata": {},
   "outputs": [],
   "source": []
  }
 ],
 "metadata": {
  "kernelspec": {
   "display_name": "Python 3",
   "language": "python",
   "name": "python3"
  },
  "language_info": {
   "codemirror_mode": {
    "name": "ipython",
    "version": 3
   },
   "file_extension": ".py",
   "mimetype": "text/x-python",
   "name": "python",
   "nbconvert_exporter": "python",
   "pygments_lexer": "ipython3",
   "version": "3.6.5"
  }
 },
 "nbformat": 4,
 "nbformat_minor": 4
}
